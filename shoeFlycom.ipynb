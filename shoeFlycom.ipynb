{
 "cells": [
  {
   "cell_type": "code",
   "execution_count": 44,
   "metadata": {},
   "outputs": [
    {
     "name": "stdout",
     "output_type": "stream",
     "text": [
      "      id first_name last_name                         email     shoe_type  \\\n",
      "0  54791    Rebecca   Lindsay  RebeccaLindsay57@hotmail.com         clogs   \n",
      "1  53450      Emily     Joyce        EmilyJoyce25@gmail.com  ballet flats   \n",
      "2  91987      Joyce    Waller        Joyce.Waller@gmail.com       sandals   \n",
      "3  14437     Justin  Erickson   Justin.Erickson@outlook.com         clogs   \n",
      "4  79357     Andrew     Banks              AB4318@gmail.com         boots   \n",
      "\n",
      "  shoe_material shoe_color  \n",
      "0  faux-leather      black  \n",
      "1  faux-leather       navy  \n",
      "2        fabric      black  \n",
      "3  faux-leather        red  \n",
      "4       leather      brown   \n",
      "\n",
      "      id first_name last_name                      email shoe_type  \\\n",
      "9  62083    Frances    Palmer  FrancesPalmer50@gmail.com    wedges   \n",
      "\n",
      "  shoe_material shoe_color  \n",
      "9       leather      white   \n",
      "\n",
      "  shoe_type shoe_material shoe_color\n",
      "9    wedges       leather      white \n",
      "\n",
      "       id first_name   last_name                         email     shoe_type  \\\n",
      "0   54791    Rebecca     Lindsay  RebeccaLindsay57@hotmail.com         clogs   \n",
      "1   53450      Emily       Joyce        EmilyJoyce25@gmail.com  ballet flats   \n",
      "3   14437     Justin    Erickson   Justin.Erickson@outlook.com         clogs   \n",
      "4   79357     Andrew       Banks              AB4318@gmail.com         boots   \n",
      "6   20487     Thomas      Jensen              TJ5470@gmail.com         clogs   \n",
      "7   76971     Janice       Hicks        Janice.Hicks@gmail.com         clogs   \n",
      "8   21586    Gabriel      Porter     GabrielPorter24@gmail.com         clogs   \n",
      "10  91629    Jessica        Hale       JessicaHale25@gmail.com         clogs   \n",
      "12  45832      Susan      Dennis       SusanDennis58@gmail.com  ballet flats   \n",
      "14  73431    Rebecca     Charles     Rebecca.Charles@gmail.com         boots   \n",
      "16  39888    Vincent  Stephenson            VS4753@outlook.com         boots   \n",
      "17  35961        Roy     Tillman        RoyTillman20@gmail.com         boots   \n",
      "\n",
      "   shoe_material shoe_color  \n",
      "0   faux-leather      black  \n",
      "1   faux-leather       navy  \n",
      "3   faux-leather        red  \n",
      "4        leather      brown  \n",
      "6         fabric       navy  \n",
      "7   faux-leather       navy  \n",
      "8        leather      brown  \n",
      "10       leather        red  \n",
      "12        fabric      white  \n",
      "14  faux-leather      white  \n",
      "16       leather      black  \n",
      "17       leather      white   \n",
      "\n",
      "     name  unit_1_grade  unit_2_grade  Grade for the Year\n",
      "0   Chloe            95            91                  93\n",
      "1   Grace            82            74                  78\n",
      "2  Jeremy            83            89                  86\n",
      "3    Isla            75            84                  98\n"
     ]
    }
   ],
   "source": [
    "import pandas as pd\n",
    "#import data from csv and assign to variable \"orders\"\n",
    "orders = pd.read_csv(\"shoeFlycom.csv\")\n",
    "#inspect first 5 rows of data in orders\n",
    "print(orders.head(), \"\\n\")\n",
    "#extract email addresses and save them into order_emails.csv\n",
    "emails = orders[\"email\"]\n",
    "emails.to_csv(\"email.csv\")\n",
    "#check Frances Palmer file\n",
    "\n",
    "frances_palmer = orders[(orders.first_name == \"Frances\") & (orders.last_name == \"Palmer\")]\n",
    "print(frances_palmer, \"\\n\")\n",
    "#what did Frances Palmer order exactly?\n",
    "print(frances_palmer[[\"shoe_type\", \"shoe_material\", \"shoe_color\"]], \"\\n\")\n",
    "#selecting only specific shoe types\n",
    "comfy_shoes = orders[orders.shoe_type.isin([\"clogs\", \"boots\", \"ballet flats\"])]\n",
    "print(comfy_shoes, \"\\n\")\n",
    "\n",
    "\n"
   ]
  }
 ],
 "metadata": {
  "kernelspec": {
   "display_name": "Python 3",
   "language": "python",
   "name": "python3"
  },
  "language_info": {
   "codemirror_mode": {
    "name": "ipython",
    "version": 3
   },
   "file_extension": ".py",
   "mimetype": "text/x-python",
   "name": "python",
   "nbconvert_exporter": "python",
   "pygments_lexer": "ipython3",
   "version": "3.7.7"
  }
 },
 "nbformat": 4,
 "nbformat_minor": 4
}
